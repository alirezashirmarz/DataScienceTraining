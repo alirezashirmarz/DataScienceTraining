{
  "nbformat": 4,
  "nbformat_minor": 0,
  "metadata": {
    "colab": {
      "name": "DataMining.ipynb",
      "private_outputs": true,
      "provenance": [],
      "authorship_tag": "ABX9TyPx20plMiZjuXUTXnRNfQ/n",
      "include_colab_link": true
    },
    "kernelspec": {
      "name": "python3",
      "display_name": "Python 3"
    },
    "language_info": {
      "name": "python"
    },
    "gpuClass": "standard"
  },
  "cells": [
    {
      "cell_type": "markdown",
      "metadata": {
        "id": "view-in-github",
        "colab_type": "text"
      },
      "source": [
        "<a href=\"https://colab.research.google.com/github/alirezashirmarz/DataScienceTraining/blob/main/DataMining.ipynb\" target=\"_parent\"><img src=\"https://colab.research.google.com/assets/colab-badge.svg\" alt=\"Open In Colab\"/></a>"
      ]
    },
    {
      "cell_type": "markdown",
      "source": [
        "# **(1) Import DataMining Required Packages**"
      ],
      "metadata": {
        "id": "lknS2JEhclzw"
      }
    },
    {
      "cell_type": "code",
      "source": [
        "import numpy as np\n",
        "import pandas as pd\n",
        "from sklearn.model_selection import train_test_split\n",
        "from sklearn.metrics import r2_score\n",
        "from sklearn.linear_model import LinearRegression"
      ],
      "metadata": {
        "id": "Xy6X-3lMb4VY"
      },
      "execution_count": null,
      "outputs": []
    },
    {
      "cell_type": "markdown",
      "source": [
        "# **(2) Read Dataset From Github Directly**"
      ],
      "metadata": {
        "id": "8HpNssM3cyTp"
      }
    },
    {
      "cell_type": "code",
      "execution_count": null,
      "metadata": {
        "id": "KuVsnc2TL6ds"
      },
      "outputs": [],
      "source": [
        "df = pd.read_csv('https://raw.githubusercontent.com/reisanar/datasets/master/WestRoxbury.csv')\n",
        "df.head(10)"
      ]
    },
    {
      "cell_type": "markdown",
      "source": [
        "# **(3) Check the dataset shape [row and column]**"
      ],
      "metadata": {
        "id": "gEsHXirxdEup"
      }
    },
    {
      "cell_type": "code",
      "source": [
        "df.shape\n",
        "print('The number of rows is',df.shape[0],sep='=' ,end='\\t')\n",
        "print('The number of columns is',df.shape[1],sep='=')"
      ],
      "metadata": {
        "id": "8i6b5sY-Mwoa"
      },
      "execution_count": null,
      "outputs": []
    },
    {
      "cell_type": "markdown",
      "source": [
        "# **(4) Rename the columns names**"
      ],
      "metadata": {
        "id": "BnD0qOt4dNws"
      }
    },
    {
      "cell_type": "code",
      "source": [
        "df=df.rename(columns={\"TOTAL VALUE\":\"Total_Value\"})  # Change a column title--> It had bug!\n",
        "df.columns=[s.strip().replace(' ','_') for s in df.columns] # change all columns title in df\n",
        "df.columns"
      ],
      "metadata": {
        "id": "EcRXoCY0N7qg"
      },
      "execution_count": null,
      "outputs": []
    },
    {
      "cell_type": "markdown",
      "source": [
        "# **(5) How to Slice the dataset**"
      ],
      "metadata": {
        "id": "2T4K89yWdWQQ"
      }
    },
    {
      "cell_type": "code",
      "source": [
        "print(df.loc[0:4]) # gives the rows from 0 to 4 (inclusive)(5 rows)\n",
        "print(df.iloc[0:4]) # gives the rows from 0 to 3 (minus 4)(4 rows)"
      ],
      "metadata": {
        "id": "PM2OPzl3Qeyi"
      },
      "execution_count": null,
      "outputs": []
    },
    {
      "cell_type": "markdown",
      "source": [
        "# **5-1) Slice the dataset with rows and columns [name and index]**"
      ],
      "metadata": {
        "id": "wDREMpsQduLx"
      }
    },
    {
      "cell_type": "code",
      "source": [
        "# Three ways to show a specific column and a slice of rows\n",
        "#df['TOTAL_VALUE'].iloc[0:4]\n",
        "#df.iloc[0:3]['TOTAL_VALUE']\n",
        "#df.iloc[0:3].TOTAL_VALUE\n",
        "#df['TOTAL_VALUE'][0:10]"
      ],
      "metadata": {
        "id": "MBn9xC4wRdHa"
      },
      "execution_count": null,
      "outputs": []
    },
    {
      "cell_type": "markdown",
      "source": [
        "#**5-2)How to slice and concatinate the dataframes**"
      ],
      "metadata": {
        "id": "ZcPrcsnQd-BS"
      }
    },
    {
      "cell_type": "code",
      "source": [
        "# Slicing the DataFrame \n",
        "#df.iloc[0][0:14] # Column 0 presents by columns 0 - 14\n",
        "#df.iloc[0:10][0:8]  #df.iloc[rowi:rowsj][rowsn,rowsm] selcet rows 1 to j and select n to m from that interval\n",
        "#df.iloc[12:14,0:1].shape # df.iloc[Rowi:Rowj,coli:colj]\n",
        "\n",
        "#pd.concat([df.iloc[0:2,0:2],df.iloc[0:2,4:8]],axis=1) # COncatinate the columns 0-2 and 4-8  of the rows 0-2\n",
        "\n",
        "#df.iloc[:,0:2]\n",
        "\n",
        "#df.TOTAL_VALUE\n",
        "\n",
        "print('Number of rows is:',len(df))\n",
        "print('The average of total value is:',df['TOTAL_VALUE'].mean())\n",
        "df.describe()"
      ],
      "metadata": {
        "id": "WNsh4ZurSmpu"
      },
      "execution_count": null,
      "outputs": []
    },
    {
      "cell_type": "markdown",
      "source": [
        "# **(6) Sampling among the rows!**"
      ],
      "metadata": {
        "id": "JTKa3mi-e9_I"
      }
    },
    {
      "cell_type": "code",
      "source": [
        "# Random sample of 5 observation\n",
        "#df.sample(5,weights=None) \n",
        "\n",
        "\n",
        "# Oversample houses with over 10 rooms\n",
        "\n",
        "weight=[0.95 if rooms>10 else 0.05 for rooms in df.ROOMS]\n",
        "#print(len(weight))\n",
        "df.sample(10,weights=weight)\n",
        "#print([df.ROOMS.mean])"
      ],
      "metadata": {
        "id": "4RceWteCfGlO"
      },
      "execution_count": null,
      "outputs": []
    },
    {
      "cell_type": "code",
      "source": [
        "s=\"\"\n",
        "help(s.strip())\n",
        "#help(df.rename)"
      ],
      "metadata": {
        "id": "SAGmBDtCOpoH"
      },
      "execution_count": null,
      "outputs": []
    }
  ]
}